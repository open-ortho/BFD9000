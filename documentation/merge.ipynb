{
 "cells": [
  {
   "cell_type": "code",
   "execution_count": 1,
   "id": "f58a996e-14eb-4d97-ada5-5c419ebb2888",
   "metadata": {},
   "outputs": [],
   "source": [
    "import shutil\n",
    "from pathlib import Path\n",
    "from PIL import Image\n",
    "from tqdm.notebook import tqdm\n",
    "from concurrent.futures import ThreadPoolExecutor, as_completed"
   ]
  },
  {
   "cell_type": "code",
   "execution_count": 2,
   "id": "b2c61f7a-0668-4e84-9afd-3dd675cf622d",
   "metadata": {},
   "outputs": [],
   "source": [
    "dir1 = Path(\"100scans\")\n",
    "dir2 = Path(\"300scans\")\n",
    "output_dir = Path(\"Scans\")\n",
    "output_dir.mkdir(parents=True, exist_ok=True)\n",
    "\n",
    "def resize_and_save_image(source, destination):\n",
    "    with Image.open(source) as img:\n",
    "        img.thumbnail((1024, 1024), Image.LANCZOS)\n",
    "        img.save(destination)\n",
    "\n",
    "unique_folders_in_output = set()\n",
    "dir1_childs = {f.name for f in dir1.iterdir() if f.is_dir()}\n",
    "same_folder_name_count = len(dir1_childs & {f.name for f in dir2.iterdir() if f.is_dir()})\n",
    "\n",
    "total_files_dir1 = sum(1 for _ in dir1.rglob(\"*.png\"))\n",
    "total_files_dir2 = sum(1 for _ in dir2.rglob(\"*.png\") if _.parent.relative_to(dir2).parts[0] not in dir1_childs)\n",
    "total_files = total_files_dir1 + total_files_dir2"
   ]
  },
  {
   "cell_type": "code",
   "execution_count": 3,
   "id": "050103a2-d517-452b-9025-9c006f848456",
   "metadata": {},
   "outputs": [
    {
     "data": {
      "application/vnd.jupyter.widget-view+json": {
       "model_id": "f78b88198bbf433897af34a3539cb619",
       "version_major": 2,
       "version_minor": 0
      },
      "text/plain": [
       "  0%|          | 0/9922 [00:00<?, ?file/s]"
      ]
     },
     "metadata": {},
     "output_type": "display_data"
    },
    {
     "name": "stdout",
     "output_type": "stream",
     "text": [
      "Unique child folders created in 'Scans': 369\n",
      "Same named child folders in '100scans' and '300scans': 19\n"
     ]
    }
   ],
   "source": [
    "with tqdm(total=total_files, unit=\"file\") as pbar:\n",
    "    with ThreadPoolExecutor(max_workers=4) as executor:\n",
    "        futures = []\n",
    "        for source in dir1.rglob(\"*.png\"):\n",
    "            destination = output_dir / source.relative_to(dir1)\n",
    "            destination.parent.mkdir(parents=True, exist_ok=True)\n",
    "            unique_folders_in_output.add(destination.parent.relative_to(output_dir).parts[0])\n",
    "            futures.append(executor.submit(shutil.copy2, source, destination))\n",
    "        for source in dir2.rglob(\"*.png\"):\n",
    "            first_level_folder = source.relative_to(dir2).parts[0]\n",
    "            if first_level_folder in dir1_childs:\n",
    "                continue\n",
    "            destination = output_dir / source.relative_to(dir2)\n",
    "            destination.parent.mkdir(parents=True, exist_ok=True)\n",
    "            futures.append(executor.submit(resize_and_save_image, source, destination))\n",
    "            unique_folders_in_output.add(first_level_folder)\n",
    "        for future in as_completed(futures):\n",
    "            pbar.update()\n",
    "\n",
    "print(f\"Unique child folders created in '{output_dir}': {len(unique_folders_in_output)}\")\n",
    "print(f\"Same named child folders in '{dir1}' and '{dir2}': {same_folder_name_count}\")"
   ]
  },
  {
   "cell_type": "code",
   "execution_count": null,
   "id": "c7413524-46cd-4b09-873a-e828ef1c56d5",
   "metadata": {},
   "outputs": [],
   "source": []
  }
 ],
 "metadata": {
  "kernelspec": {
   "display_name": "Python 3 (ipykernel)",
   "language": "python",
   "name": "python3"
  },
  "language_info": {
   "codemirror_mode": {
    "name": "ipython",
    "version": 3
   },
   "file_extension": ".py",
   "mimetype": "text/x-python",
   "name": "python",
   "nbconvert_exporter": "python",
   "pygments_lexer": "ipython3",
   "version": "3.11.3"
  }
 },
 "nbformat": 4,
 "nbformat_minor": 5
}
