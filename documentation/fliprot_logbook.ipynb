{
 "cells": [
  {
   "cell_type": "markdown",
   "id": "ab91e166-7de8-4fd0-8676-13f52fe92a1e",
   "metadata": {},
   "source": [
    "# Project: Evaluating Deep-Learning Models for Detecting Orientation and Flipping of X-Ray Scans\n",
    "## Objective: Develop a Reliable Method to Detect Orientation and Flipping of PA and Lateral Ceph Scans in the BB-Collection\n",
    "---\n",
    "### Background\n",
    "\n",
    "In the BB-Collection, we identified several TIFF scans with inconsistent rotation and flipping. Specifically, Lateral Cephs and PAs should be oriented to the right and upwards, respectively.\n",
    "\n",
    "### Strategy\n",
    "\n",
    "Based on the findings in the work of Swami et al. [[1]](#References), we've determined that deep learning is the most appropriate method to accomplish this task.  \n",
    "Specifically, we will make use of pre-trained models through *transfer learning*. This is the process of fine-tuning a model that has already been trained on millions of images to recognize more than 1000 classes of objects.  \n",
    "\n",
    "We will evaluate various models with different architectures and sizes (number of neurons and layers), and assess their performance specifically within the context of the BB-Collection."
   ]
  },
  {
   "cell_type": "code",
   "execution_count": 2,
   "id": "58e28ab4-99e8-43ff-88a9-749845796200",
   "metadata": {},
   "outputs": [],
   "source": [
    "import fastai"
   ]
  },
  {
   "cell_type": "markdown",
   "id": "7d282c5d-603f-4382-9614-91bd6ba835e8",
   "metadata": {},
   "source": [
    "---\n",
    "### References\n",
    "[1]: K. Swami, P. P. Deshpande, G. Khandelwal and A. Vijayvargiya, \"Why my photos look sideways or upside down? Detecting canonical orientation of images using convolutional neural networks,\" 2017 IEEE International Conference on Multimedia & Expo Workshops (ICMEW), Hong Kong, China, 2017, pp. 495-500, doi: 10.1109/ICMEW.2017.8026216."
   ]
  },
  {
   "cell_type": "code",
   "execution_count": null,
   "id": "d2ec1b0f-4c0c-41d8-b9bd-f453660c60fa",
   "metadata": {},
   "outputs": [],
   "source": []
  }
 ],
 "metadata": {
  "kernelspec": {
   "display_name": "Python 3 (ipykernel)",
   "language": "python",
   "name": "python3"
  },
  "language_info": {
   "codemirror_mode": {
    "name": "ipython",
    "version": 3
   },
   "file_extension": ".py",
   "mimetype": "text/x-python",
   "name": "python",
   "nbconvert_exporter": "python",
   "pygments_lexer": "ipython3",
   "version": "3.11.3"
  }
 },
 "nbformat": 4,
 "nbformat_minor": 5
}
