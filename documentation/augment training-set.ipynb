{
 "cells": [
  {
   "cell_type": "markdown",
   "id": "a7cdef60-fc91-4153-b513-f09c28bae063",
   "metadata": {},
   "source": [
    "### Augmenting the Training Set\n",
    "We add a *non-lateral* class to the training set in order to allow the model to automatically skip scans that are not laterals and therefore don't need to be rotated."
   ]
  },
  {
   "cell_type": "code",
   "execution_count": 14,
   "id": "acfaf85a-2096-454d-a26b-bb1bcd99e3e1",
   "metadata": {},
   "outputs": [],
   "source": [
    "# Usual imports\n",
    "\n",
    "from fastai.vision.all import *\n",
    "import numpy as np\n",
    "from PIL import Image\n",
    "from pathlib import Path\n",
    "import matplotlib.patches as patches\n",
    "import pickle\n",
    "import re\n",
    "from skimage import exposure, io, color\n",
    "from multiprocessing import Pool"
   ]
  },
  {
   "cell_type": "code",
   "execution_count": 3,
   "id": "93f4ed35-3b67-4eb6-bcdc-8a384165814a",
   "metadata": {},
   "outputs": [
    {
     "data": {
      "text/plain": [
       "{'Lateral', 'Lateral Ceph', 'Lateral Skull', 'LateralCeph', 'Laterals'}"
      ]
     },
     "execution_count": 3,
     "metadata": {},
     "output_type": "execute_result"
    }
   ],
   "source": [
    "folder = Path('Scans')\n",
    "laterals = {d.name for d in folder.glob('*/*') if d.is_dir() and \"lat\" in d.name.lower()}\n",
    "laterals"
   ]
  },
  {
   "cell_type": "code",
   "execution_count": 15,
   "id": "42bb4ab5-b330-40dc-8715-9cce6f0413c6",
   "metadata": {},
   "outputs": [
    {
     "name": "stdout",
     "output_type": "stream",
     "text": [
      "7040 non lateral scans in Scans folder\n"
     ]
    },
    {
     "data": {
      "text/plain": [
       "[Path('Scans/B0065/Knee/B0065HM13y02m.png'),\n",
       " Path('Scans/B3120/Knee/B3120KF07y00m.png'),\n",
       " Path('Scans/B2464/Knee/B2464KM08y00m.png')]"
      ]
     },
     "execution_count": 15,
     "metadata": {},
     "output_type": "execute_result"
    }
   ],
   "source": [
    "files = folder.rglob(\"*.png\")\n",
    "scans = []\n",
    "for f in files:\n",
    "    if not any([s in str(f) for s in laterals]):\n",
    "        scans.append(f)\n",
    "\n",
    "print(f\"{len(scans)} non lateral scans in Scans folder\")\n",
    "non_lat = random.sample(scans, 512)\n",
    "random.sample(non_lat, 3)"
   ]
  },
  {
   "cell_type": "code",
   "execution_count": 18,
   "id": "e7f9e4db-6f93-473d-bda1-bab8ef16619f",
   "metadata": {},
   "outputs": [],
   "source": [
    "train_folder = \"Train/none2\"\n",
    "rotations = [90, 180, 270]\n",
    "\n",
    "def process_image(scan):\n",
    "    img = Image.open(scan)\n",
    "    img.save(f\"{train_folder}/{scan.stem}_none.png\")\n",
    "    img_flip = img.transpose(Image.Transpose.FLIP_LEFT_RIGHT)\n",
    "    img_flip.save(f\"{train_folder}/{scan.stem}F_none.png\")\n",
    "    for rot in rotations:\n",
    "        # img_rot = img.rotate(rot)\n",
    "        img_rot = img.transpose(Image.Transpose[f\"ROTATE_{rot}\"])\n",
    "        img_rot.save(f\"{train_folder}/{scan.stem}{rot}_none.png\")\n",
    "        img_rot_flip = img_rot.transpose(Image.Transpose.FLIP_LEFT_RIGHT)\n",
    "        img_rot_flip.save(f\"{train_folder}/{scan.stem}{rot}F_none.png\")\n",
    "\n",
    "\n",
    "with Pool() as p:\n",
    "    p.map(process_image, non_lat)\n",
    "    "
   ]
  }
 ],
 "metadata": {
  "kernelspec": {
   "display_name": "Python 3 (ipykernel)",
   "language": "python",
   "name": "python3"
  },
  "language_info": {
   "codemirror_mode": {
    "name": "ipython",
    "version": 3
   },
   "file_extension": ".py",
   "mimetype": "text/x-python",
   "name": "python",
   "nbconvert_exporter": "python",
   "pygments_lexer": "ipython3",
   "version": "3.11.3"
  }
 },
 "nbformat": 4,
 "nbformat_minor": 5
}
